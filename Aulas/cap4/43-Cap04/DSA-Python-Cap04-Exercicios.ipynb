{
 "cells": [
  {
   "cell_type": "markdown",
   "metadata": {},
   "source": [
    "# <font color='blue'>Data Science Academy</font>\n",
    "\n",
    "## <font color='blue'>Fundamentos de Linguagem Python Para Análise de Dados e Data Science</font>\n",
    "\n",
    "## <font color='blue'>Capítulo 4 - Exercícios</font>"
   ]
  },
  {
   "cell_type": "code",
   "execution_count": 1,
   "metadata": {
    "tags": []
   },
   "outputs": [
    {
     "name": "stdout",
     "output_type": "stream",
     "text": [
      "Versão da Linguagem Python Usada Neste Jupyter Notebook: 3.11.3\n"
     ]
    }
   ],
   "source": [
    "# Versão da Linguagem Python\n",
    "from platform import python_version\n",
    "print('Versão da Linguagem Python Usada Neste Jupyter Notebook:', python_version())"
   ]
  },
  {
   "cell_type": "markdown",
   "metadata": {},
   "source": [
    "## Exercícios "
   ]
  },
  {
   "cell_type": "code",
   "execution_count": 136,
   "metadata": {
    "tags": []
   },
   "outputs": [
    {
     "name": "stdout",
     "output_type": "stream",
     "text": [
      "9\n",
      "8\n",
      "7\n",
      "6\n",
      "5\n",
      "4\n",
      "3\n",
      "2\n",
      "1\n",
      "0\n",
      "d\n"
     ]
    }
   ],
   "source": [
    "my_list = [19, 23, 3, 34, 509, 6, 73, 8, 93, 10]\n",
    "for i in range(len(my_list)-1,-1, -1):\n",
    "    print(i)\n",
    "a = \"ddd\"\n",
    "print(a[0:1])"
   ]
  },
  {
   "cell_type": "code",
   "execution_count": 90,
   "metadata": {
    "tags": []
   },
   "outputs": [],
   "source": [
    "def change_pos_item(a, b, my_list):\n",
    "    aux = my_list[a]\n",
    "    my_list[a] = my_list[b]\n",
    "    my_list[b] = aux\n",
    "    #print(f\"trocou {my_list[a]} por {my_list[b]}\")\n",
    "    return my_list"
   ]
  },
  {
   "cell_type": "code",
   "execution_count": 168,
   "metadata": {
    "tags": []
   },
   "outputs": [],
   "source": [
    "#Bubble Sort min\n",
    "def bubble_sort(my_list):\n",
    "    print(my_list)\n",
    "    for i in range(0, len(my_list)):\n",
    "        for j in range(1, len(my_list) - i):\n",
    "            print(my_list[0:len(my_list) - i])\n",
    "            if my_list[j-1] > my_list[j]:\n",
    "                my_list = change_pos_item(j, j-1, my_list)\n",
    "        print(my_list)\n",
    "    return my_list"
   ]
  },
  {
   "cell_type": "code",
   "execution_count": 169,
   "metadata": {
    "tags": []
   },
   "outputs": [
    {
     "name": "stdout",
     "output_type": "stream",
     "text": [
      "[19, 23, 3, 34, 509, 6, 73, 8, 93, 10]\n",
      "[19, 23, 3, 34, 509, 6, 73, 8, 93, 10]\n",
      "[19, 23, 3, 34, 509, 6, 73, 8, 93, 10]\n",
      "[19, 3, 23, 34, 509, 6, 73, 8, 93, 10]\n",
      "[19, 3, 23, 34, 509, 6, 73, 8, 93, 10]\n",
      "[19, 3, 23, 34, 509, 6, 73, 8, 93, 10]\n",
      "[19, 3, 23, 34, 6, 509, 73, 8, 93, 10]\n",
      "[19, 3, 23, 34, 6, 73, 509, 8, 93, 10]\n",
      "[19, 3, 23, 34, 6, 73, 8, 509, 93, 10]\n",
      "[19, 3, 23, 34, 6, 73, 8, 93, 509, 10]\n",
      "[19, 3, 23, 34, 6, 73, 8, 93, 10, 509]\n",
      "[19, 3, 23, 34, 6, 73, 8, 93, 10]\n",
      "[3, 19, 23, 34, 6, 73, 8, 93, 10]\n",
      "[3, 19, 23, 34, 6, 73, 8, 93, 10]\n",
      "[3, 19, 23, 34, 6, 73, 8, 93, 10]\n",
      "[3, 19, 23, 6, 34, 73, 8, 93, 10]\n",
      "[3, 19, 23, 6, 34, 73, 8, 93, 10]\n",
      "[3, 19, 23, 6, 34, 8, 73, 93, 10]\n",
      "[3, 19, 23, 6, 34, 8, 73, 93, 10]\n",
      "[3, 19, 23, 6, 34, 8, 73, 10, 93, 509]\n",
      "[3, 19, 23, 6, 34, 8, 73, 10]\n",
      "[3, 19, 23, 6, 34, 8, 73, 10]\n",
      "[3, 19, 23, 6, 34, 8, 73, 10]\n",
      "[3, 19, 6, 23, 34, 8, 73, 10]\n",
      "[3, 19, 6, 23, 34, 8, 73, 10]\n",
      "[3, 19, 6, 23, 8, 34, 73, 10]\n",
      "[3, 19, 6, 23, 8, 34, 73, 10]\n",
      "[3, 19, 6, 23, 8, 34, 10, 73, 93, 509]\n",
      "[3, 19, 6, 23, 8, 34, 10]\n",
      "[3, 19, 6, 23, 8, 34, 10]\n",
      "[3, 6, 19, 23, 8, 34, 10]\n",
      "[3, 6, 19, 23, 8, 34, 10]\n",
      "[3, 6, 19, 8, 23, 34, 10]\n",
      "[3, 6, 19, 8, 23, 34, 10]\n",
      "[3, 6, 19, 8, 23, 10, 34, 73, 93, 509]\n",
      "[3, 6, 19, 8, 23, 10]\n",
      "[3, 6, 19, 8, 23, 10]\n",
      "[3, 6, 19, 8, 23, 10]\n",
      "[3, 6, 8, 19, 23, 10]\n",
      "[3, 6, 8, 19, 23, 10]\n",
      "[3, 6, 8, 19, 10, 23, 34, 73, 93, 509]\n",
      "[3, 6, 8, 19, 10]\n",
      "[3, 6, 8, 19, 10]\n",
      "[3, 6, 8, 19, 10]\n",
      "[3, 6, 8, 19, 10]\n",
      "[3, 6, 8, 10, 19, 23, 34, 73, 93, 509]\n",
      "[3, 6, 8, 10]\n",
      "[3, 6, 8, 10]\n",
      "[3, 6, 8, 10]\n",
      "[3, 6, 8, 10, 19, 23, 34, 73, 93, 509]\n",
      "[3, 6, 8]\n",
      "[3, 6, 8]\n",
      "[3, 6, 8, 10, 19, 23, 34, 73, 93, 509]\n",
      "[3, 6]\n",
      "[3, 6, 8, 10, 19, 23, 34, 73, 93, 509]\n",
      "[3, 6, 8, 10, 19, 23, 34, 73, 93, 509]\n",
      "[3, 6, 8, 10, 19, 23, 34, 73, 93, 509]\n"
     ]
    }
   ],
   "source": [
    "my_list = [19, 23, 3, 34, 509, 6, 73, 8, 93, 10]\n",
    "print(bubble_sort(my_list))"
   ]
  },
  {
   "cell_type": "code",
   "execution_count": 170,
   "metadata": {
    "tags": []
   },
   "outputs": [],
   "source": [
    "#Bubble Sort max com index DSA\n",
    "def bubble_sort(my_list):\n",
    "    print(my_list)\n",
    "    for i in range(0, len(my_list)):\n",
    "        for j in range(0, len(my_list)-i-1):\n",
    "            print(my_list[0:len(my_list) - i])\n",
    "            if my_list[j+1] < my_list[j]:\n",
    "                my_list = change_pos_item(j, j+1, my_list)\n",
    "        print(my_list)\n",
    "    return my_list"
   ]
  },
  {
   "cell_type": "code",
   "execution_count": 164,
   "metadata": {
    "tags": []
   },
   "outputs": [
    {
     "name": "stdout",
     "output_type": "stream",
     "text": [
      "[0, 1, 2, 3, 4, 5, 6, 7, 8, 9]\n",
      "[0, 1, 2, 3, 4, 5, 6, 7, 8, 9]\n",
      "[0, 1, 2, 3, 4, 5, 6, 7, 8, 9]\n",
      "[0, 1, 2, 3, 4, 5, 6, 7, 8, 9]\n",
      "[0, 1, 2, 3, 4, 5, 6, 7, 8, 9]\n",
      "[0, 1, 2, 3, 4, 5, 6, 7, 8, 9]\n",
      "[0, 1, 2, 3, 4, 5, 6, 7, 8, 9]\n",
      "[0, 1, 2, 3, 4, 5, 6, 7, 8, 9]\n",
      "[0, 1, 2, 3, 4, 5, 6, 7, 8, 9]\n",
      "[0, 1, 2, 3, 4, 5, 6, 7, 8, 9]\n",
      "[0, 1, 2, 3, 4, 5, 6, 7, 8, 9]\n",
      "[0, 1, 2, 3, 4, 5, 6, 7, 8]\n",
      "[0, 1, 2, 3, 4, 5, 6, 7, 8]\n",
      "[0, 1, 2, 3, 4, 5, 6, 7, 8]\n",
      "[0, 1, 2, 3, 4, 5, 6, 7, 8]\n",
      "[0, 1, 2, 3, 4, 5, 6, 7, 8]\n",
      "[0, 1, 2, 3, 4, 5, 6, 7, 8]\n",
      "[0, 1, 2, 3, 4, 5, 6, 7, 8]\n",
      "[0, 1, 2, 3, 4, 5, 6, 7, 8]\n",
      "[0, 1, 2, 3, 4, 5, 6, 7, 8, 9]\n",
      "[0, 1, 2, 3, 4, 5, 6, 7]\n",
      "[0, 1, 2, 3, 4, 5, 6, 7]\n",
      "[0, 1, 2, 3, 4, 5, 6, 7]\n",
      "[0, 1, 2, 3, 4, 5, 6, 7]\n",
      "[0, 1, 2, 3, 4, 5, 6, 7]\n",
      "[0, 1, 2, 3, 4, 5, 6, 7]\n",
      "[0, 1, 2, 3, 4, 5, 6, 7]\n",
      "[0, 1, 2, 3, 4, 5, 6, 7, 8, 9]\n",
      "[0, 1, 2, 3, 4, 5, 6]\n",
      "[0, 1, 2, 3, 4, 5, 6]\n",
      "[0, 1, 2, 3, 4, 5, 6]\n",
      "[0, 1, 2, 3, 4, 5, 6]\n",
      "[0, 1, 2, 3, 4, 5, 6]\n",
      "[0, 1, 2, 3, 4, 5, 6]\n",
      "[0, 1, 2, 3, 4, 5, 6, 7, 8, 9]\n",
      "[0, 1, 2, 3, 4, 5]\n",
      "[0, 1, 2, 3, 4, 5]\n",
      "[0, 1, 2, 3, 4, 5]\n",
      "[0, 1, 2, 3, 4, 5]\n",
      "[0, 1, 2, 3, 4, 5]\n",
      "[0, 1, 2, 3, 4, 5, 6, 7, 8, 9]\n",
      "[0, 1, 2, 3, 4]\n",
      "[0, 1, 2, 3, 4]\n",
      "[0, 1, 2, 3, 4]\n",
      "[0, 1, 2, 3, 4]\n",
      "[0, 1, 2, 3, 4, 5, 6, 7, 8, 9]\n",
      "[0, 1, 2, 3]\n",
      "[0, 1, 2, 3]\n",
      "[0, 1, 2, 3]\n",
      "[0, 1, 2, 3, 4, 5, 6, 7, 8, 9]\n",
      "[0, 1, 2]\n",
      "[0, 1, 2]\n",
      "[0, 1, 2, 3, 4, 5, 6, 7, 8, 9]\n",
      "[0, 1]\n",
      "[0, 1, 2, 3, 4, 5, 6, 7, 8, 9]\n",
      "[0, 1, 2, 3, 4, 5, 6, 7, 8, 9]\n",
      "[0, 1, 2, 3, 4, 5, 6, 7, 8, 9]\n"
     ]
    }
   ],
   "source": [
    "my_list = [0, 1, 2, 3, 4, 5, 6, 7, 8, 9]\n",
    "print(bubble_sort(my_list))"
   ]
  },
  {
   "cell_type": "code",
   "execution_count": 165,
   "metadata": {
    "tags": []
   },
   "outputs": [
    {
     "name": "stdout",
     "output_type": "stream",
     "text": [
      "[10, 9, 8, 7, 6, 5, 4, 3, 2, 1]\n",
      "[10, 9, 8, 7, 6, 5, 4, 3, 2, 1]\n",
      "[9, 10, 8, 7, 6, 5, 4, 3, 2, 1]\n",
      "[9, 8, 10, 7, 6, 5, 4, 3, 2, 1]\n",
      "[9, 8, 7, 10, 6, 5, 4, 3, 2, 1]\n",
      "[9, 8, 7, 6, 10, 5, 4, 3, 2, 1]\n",
      "[9, 8, 7, 6, 5, 10, 4, 3, 2, 1]\n",
      "[9, 8, 7, 6, 5, 4, 10, 3, 2, 1]\n",
      "[9, 8, 7, 6, 5, 4, 3, 10, 2, 1]\n",
      "[9, 8, 7, 6, 5, 4, 3, 2, 10, 1]\n",
      "[9, 8, 7, 6, 5, 4, 3, 2, 1, 10]\n",
      "[9, 8, 7, 6, 5, 4, 3, 2, 1]\n",
      "[8, 9, 7, 6, 5, 4, 3, 2, 1]\n",
      "[8, 7, 9, 6, 5, 4, 3, 2, 1]\n",
      "[8, 7, 6, 9, 5, 4, 3, 2, 1]\n",
      "[8, 7, 6, 5, 9, 4, 3, 2, 1]\n",
      "[8, 7, 6, 5, 4, 9, 3, 2, 1]\n",
      "[8, 7, 6, 5, 4, 3, 9, 2, 1]\n",
      "[8, 7, 6, 5, 4, 3, 2, 9, 1]\n",
      "[8, 7, 6, 5, 4, 3, 2, 1, 9, 10]\n",
      "[8, 7, 6, 5, 4, 3, 2, 1]\n",
      "[7, 8, 6, 5, 4, 3, 2, 1]\n",
      "[7, 6, 8, 5, 4, 3, 2, 1]\n",
      "[7, 6, 5, 8, 4, 3, 2, 1]\n",
      "[7, 6, 5, 4, 8, 3, 2, 1]\n",
      "[7, 6, 5, 4, 3, 8, 2, 1]\n",
      "[7, 6, 5, 4, 3, 2, 8, 1]\n",
      "[7, 6, 5, 4, 3, 2, 1, 8, 9, 10]\n",
      "[7, 6, 5, 4, 3, 2, 1]\n",
      "[6, 7, 5, 4, 3, 2, 1]\n",
      "[6, 5, 7, 4, 3, 2, 1]\n",
      "[6, 5, 4, 7, 3, 2, 1]\n",
      "[6, 5, 4, 3, 7, 2, 1]\n",
      "[6, 5, 4, 3, 2, 7, 1]\n",
      "[6, 5, 4, 3, 2, 1, 7, 8, 9, 10]\n",
      "[6, 5, 4, 3, 2, 1]\n",
      "[5, 6, 4, 3, 2, 1]\n",
      "[5, 4, 6, 3, 2, 1]\n",
      "[5, 4, 3, 6, 2, 1]\n",
      "[5, 4, 3, 2, 6, 1]\n",
      "[5, 4, 3, 2, 1, 6, 7, 8, 9, 10]\n",
      "[5, 4, 3, 2, 1]\n",
      "[4, 5, 3, 2, 1]\n",
      "[4, 3, 5, 2, 1]\n",
      "[4, 3, 2, 5, 1]\n",
      "[4, 3, 2, 1, 5, 6, 7, 8, 9, 10]\n",
      "[4, 3, 2, 1]\n",
      "[3, 4, 2, 1]\n",
      "[3, 2, 4, 1]\n",
      "[3, 2, 1, 4, 5, 6, 7, 8, 9, 10]\n",
      "[3, 2, 1]\n",
      "[2, 3, 1]\n",
      "[2, 1, 3, 4, 5, 6, 7, 8, 9, 10]\n",
      "[2, 1]\n",
      "[1, 2, 3, 4, 5, 6, 7, 8, 9, 10]\n",
      "[1, 2, 3, 4, 5, 6, 7, 8, 9, 10]\n",
      "[1, 2, 3, 4, 5, 6, 7, 8, 9, 10]\n"
     ]
    }
   ],
   "source": [
    "my_list = [10, 9, 8, 7, 6, 5, 4, 3, 2, 1]\n",
    "print(bubble_sort(my_list))"
   ]
  },
  {
   "cell_type": "code",
   "execution_count": 110,
   "metadata": {
    "tags": []
   },
   "outputs": [
    {
     "name": "stdout",
     "output_type": "stream",
     "text": [
      "[10, 9, 8, 7, 6, 5, 4, 3, 2, 1]\n"
     ]
    }
   ],
   "source": [
    "# Exercício 1 - Imprima na tela os números de 1 a 10. Use uma lista para armazenar os números.\n",
    "lista = list(range(10, 0, -1))\n",
    "print(lista)"
   ]
  },
  {
   "cell_type": "code",
   "execution_count": 6,
   "metadata": {
    "tags": []
   },
   "outputs": [
    {
     "name": "stdout",
     "output_type": "stream",
     "text": [
      "[1, 1.2, 'aaaa', {'a': 1}, (1, 56)]\n"
     ]
    }
   ],
   "source": [
    "# Exercício 2 - Crie uma lista de 5 objetos e imprima na tela\n",
    "lista = [1, 1.2, \"aaaa\", {\"a\": 1}, (1, 56)]\n",
    "print(lista)"
   ]
  },
  {
   "cell_type": "code",
   "execution_count": null,
   "metadata": {},
   "outputs": [],
   "source": []
  },
  {
   "cell_type": "code",
   "execution_count": 7,
   "metadata": {
    "tags": []
   },
   "outputs": [
    {
     "name": "stdout",
     "output_type": "stream",
     "text": [
      "ab\n"
     ]
    }
   ],
   "source": [
    "# Exercício 3 - Crie duas strings e concatene as duas em uma terceira string\n",
    "s1 = 'a'\n",
    "s2 = 'b'\n",
    "s3 = s1+s2\n",
    "print(s3)"
   ]
  },
  {
   "cell_type": "code",
   "execution_count": 8,
   "metadata": {
    "tags": []
   },
   "outputs": [
    {
     "data": {
      "text/plain": [
       "3"
      ]
     },
     "execution_count": 8,
     "metadata": {},
     "output_type": "execute_result"
    }
   ],
   "source": [
    "# Exercício 4 - Crie uma tupla com os seguintes elementos: 1, 2, 2, 3, 4, 4, 4, 5 e depois utilize a função count do \n",
    "# objeto tupla para verificar quantas vezes o número 4 aparece na tupla\n",
    "tupla = (1, 2, 2, 3, 4, 4, 4, 5)\n",
    "tupla.count(4)"
   ]
  },
  {
   "cell_type": "code",
   "execution_count": 9,
   "metadata": {
    "tags": []
   },
   "outputs": [
    {
     "name": "stdout",
     "output_type": "stream",
     "text": [
      "{}\n"
     ]
    }
   ],
   "source": [
    "# Exercício 5 - Crie um dicionário vazio e imprima na tela\n",
    "dic = {}\n",
    "print(dic)"
   ]
  },
  {
   "cell_type": "code",
   "execution_count": 11,
   "metadata": {
    "tags": []
   },
   "outputs": [
    {
     "name": "stdout",
     "output_type": "stream",
     "text": [
      "{'a': 1, 1: 'a', 'bb': {1: 'ababa'}}\n"
     ]
    }
   ],
   "source": [
    "# Exercício 6 - Crie um dicionário com 3 chaves e 3 valores e imprima na tela\n",
    "dic = {\"a\": 1, 1: \"a\", \"bb\": {1:\"ababa\"}}\n",
    "print(dic)\n"
   ]
  },
  {
   "cell_type": "code",
   "execution_count": 12,
   "metadata": {
    "tags": []
   },
   "outputs": [
    {
     "name": "stdout",
     "output_type": "stream",
     "text": [
      "{'a': 1, 1: 'a', 'bb': {1: 'ababa'}, 'new': 'novo'}\n"
     ]
    }
   ],
   "source": [
    "# Exercício 7 - Adicione mais um elemento ao dicionário criado no exercício anterior e imprima na tela\n",
    "dic[\"new\"] = \"novo\"\n",
    "print(dic)"
   ]
  },
  {
   "cell_type": "code",
   "execution_count": 9,
   "metadata": {},
   "outputs": [],
   "source": [
    "# Exercício 8 - Crie um dicionário com 3 chaves e 3 valores. \n",
    "# Um dos valores deve ser uma lista de 2 elementos numéricos. \n",
    "# Imprima o dicionário na tela."
   ]
  },
  {
   "cell_type": "code",
   "execution_count": 10,
   "metadata": {},
   "outputs": [],
   "source": [
    "# Exercício 9 - Crie uma lista de 4 elementos. O primeiro elemento deve ser uma string, \n",
    "# o segundo uma tupla de 2 elementos, o terceiro um dcionário com 2 chaves e 2 valores e \n",
    "# o quarto elemento um valor do tipo float.\n",
    "# Imprima a lista."
   ]
  },
  {
   "cell_type": "code",
   "execution_count": 11,
   "metadata": {},
   "outputs": [],
   "source": [
    "# Exercício 10 - Considere a string abaixo. Imprima na tela apenas os caracteres da posição 1 a 18.\n",
    "frase = 'Cientista de Dados é o profissional mais sexy do século XXI'"
   ]
  },
  {
   "cell_type": "markdown",
   "metadata": {},
   "source": [
    "# Fim"
   ]
  },
  {
   "cell_type": "markdown",
   "metadata": {},
   "source": [
    "### Obrigado\n",
    "\n",
    "### Visite o Blog da Data Science Academy - <a href=\"http://blog.dsacademy.com.br\">Blog DSA</a>"
   ]
  }
 ],
 "metadata": {
  "kernelspec": {
   "display_name": "Python 3 (ipykernel)",
   "language": "python",
   "name": "python3"
  },
  "language_info": {
   "codemirror_mode": {
    "name": "ipython",
    "version": 3
   },
   "file_extension": ".py",
   "mimetype": "text/x-python",
   "name": "python",
   "nbconvert_exporter": "python",
   "pygments_lexer": "ipython3",
   "version": "3.11.3"
  }
 },
 "nbformat": 4,
 "nbformat_minor": 4
}
